{
  "nbformat": 4,
  "nbformat_minor": 0,
  "metadata": {
    "colab": {
      "provenance": []
    },
    "kernelspec": {
      "name": "python3",
      "display_name": "Python 3"
    },
    "language_info": {
      "name": "python"
    }
  },
  "cells": [
    {
      "cell_type": "code",
      "execution_count": 1,
      "metadata": {
        "id": "8SKdXScURd8q"
      },
      "outputs": [],
      "source": [
        "d={}"
      ]
    },
    {
      "cell_type": "code",
      "source": [
        "d[\"Apple\"] = 158"
      ],
      "metadata": {
        "id": "-bFiDXzmUrsQ"
      },
      "execution_count": null,
      "outputs": []
    },
    {
      "cell_type": "code",
      "source": [
        "print(d[\"Apple\"])"
      ],
      "metadata": {
        "colab": {
          "base_uri": "https://localhost:8080/"
        },
        "id": "3ZqNbUe2U4XF",
        "outputId": "97619a5f-9cc1-4006-bf0f-1e50f6ae02cd"
      },
      "execution_count": null,
      "outputs": [
        {
          "output_type": "stream",
          "name": "stdout",
          "text": [
            "158\n"
          ]
        }
      ]
    },
    {
      "cell_type": "code",
      "source": [],
      "metadata": {
        "id": "WetH2HJBjxCj"
      },
      "execution_count": null,
      "outputs": []
    },
    {
      "cell_type": "code",
      "source": [
        "d = {\"Apple\": 158, \"Banana\" : 198, \"Orange\" : 100}"
      ],
      "metadata": {
        "id": "y5gn08Pg2BsM"
      },
      "execution_count": null,
      "outputs": []
    },
    {
      "cell_type": "code",
      "source": [
        "d[1] = \"one\"\n",
        "d[(1,2)] = (2,4)"
      ],
      "metadata": {
        "id": "2qVv-XR82Lgk"
      },
      "execution_count": null,
      "outputs": []
    },
    {
      "cell_type": "code",
      "source": [
        "for k in d:\n",
        "    print(k)"
      ],
      "metadata": {
        "colab": {
          "base_uri": "https://localhost:8080/"
        },
        "id": "DNyniC6-2QTc",
        "outputId": "274f545c-589c-44b0-9654-d40a7fc1902c"
      },
      "execution_count": null,
      "outputs": [
        {
          "output_type": "stream",
          "name": "stdout",
          "text": [
            "Apple\n",
            "Banana\n",
            "Orange\n",
            "1\n",
            "(1, 2)\n"
          ]
        }
      ]
    },
    {
      "cell_type": "code",
      "source": [
        "for k in d:\n",
        "    print(d[k])"
      ],
      "metadata": {
        "colab": {
          "base_uri": "https://localhost:8080/"
        },
        "id": "poVdTF9J2a4j",
        "outputId": "50452f0e-93c9-415f-ab8b-2ae38d7a198c"
      },
      "execution_count": null,
      "outputs": [
        {
          "output_type": "stream",
          "name": "stdout",
          "text": [
            "158\n",
            "198\n",
            "100\n",
            "one\n",
            "(2, 4)\n"
          ]
        }
      ]
    },
    {
      "cell_type": "code",
      "source": [
        "for k,v in d.items():\n",
        "    print(k,v)"
      ],
      "metadata": {
        "colab": {
          "base_uri": "https://localhost:8080/"
        },
        "id": "0hTuD0tB2etR",
        "outputId": "7d284c79-02b0-4304-9fc0-ed9221900ee4"
      },
      "execution_count": null,
      "outputs": [
        {
          "output_type": "stream",
          "name": "stdout",
          "text": [
            "Apple 158\n",
            "Banana 198\n",
            "Orange 100\n",
            "1 one\n",
            "(1, 2) (2, 4)\n"
          ]
        }
      ]
    },
    {
      "cell_type": "code",
      "source": [
        "text ='たった一《ひと》つの真実《しんじつ》見抜《みぬ》く見《み》た目《め》は子供《こども》、頭脳《ずのう》は大人《おとな》、その名《な》は、名探偵《めいたんてい》コナン。'"
      ],
      "metadata": {
        "id": "7BZZMDirfv8t"
      },
      "execution_count": null,
      "outputs": []
    },
    {
      "cell_type": "code",
      "source": [
        "in_bracket = False\n",
        "for s in list(text):\n",
        "  if in_bracket:\n",
        "    if s == '》':\n",
        "      in_bracket = False\n",
        "    continue\n",
        "  if s == '《':\n",
        "    in_bracket = True\n",
        "    continue\n",
        "  print(s, end=\"\")\n",
        "print()"
      ],
      "metadata": {
        "colab": {
          "base_uri": "https://localhost:8080/"
        },
        "id": "7T-9WXSFhEks",
        "outputId": "1de5ba66-ce26-4684-a3f6-ccd68c4683d6"
      },
      "execution_count": null,
      "outputs": [
        {
          "output_type": "stream",
          "name": "stdout",
          "text": [
            "たった一つの真実見抜く見た目は子供、頭脳は大人、その名は、名探偵コナン。\n"
          ]
        }
      ]
    },
    {
      "cell_type": "code",
      "source": [
        "text ='たった一《ひと》つの真実《しんじつ》見抜《みぬ》く見《み》た目《め》は子供《こども》、頭脳《ずのう》は大人《おとな》、その名《な》は、名探偵《めいたんてい》コナン。'"
      ],
      "metadata": {
        "id": "ZfEw_hwQttxC"
      },
      "execution_count": null,
      "outputs": []
    },
    {
      "cell_type": "code",
      "source": [
        "import re\n",
        "print(re.sub(r'《.*?》', '',text))"
      ],
      "metadata": {
        "colab": {
          "base_uri": "https://localhost:8080/"
        },
        "id": "phSnGbv0t1L3",
        "outputId": "091b5f46-f9b7-4d63-84fc-1cba7cd32e32"
      },
      "execution_count": null,
      "outputs": [
        {
          "output_type": "stream",
          "name": "stdout",
          "text": [
            "たった一つの真実見抜く見た目は子供、頭脳は大人、その名は、名探偵コナン。\n"
          ]
        }
      ]
    },
    {
      "cell_type": "code",
      "source": [
        "text = 'hanamogera'"
      ],
      "metadata": {
        "id": "C8ScDiJqaTGP"
      },
      "execution_count": null,
      "outputs": []
    },
    {
      "cell_type": "code",
      "source": [
        "m = re.search(r'moge', text)"
      ],
      "metadata": {
        "id": "QEkRdc7oav8l"
      },
      "execution_count": null,
      "outputs": []
    },
    {
      "cell_type": "code",
      "source": [
        "m.span()"
      ],
      "metadata": {
        "colab": {
          "base_uri": "https://localhost:8080/"
        },
        "id": "jY5UY3WCdmjX",
        "outputId": "53189833-fff5-4198-99f7-4754f868ff66"
      },
      "execution_count": null,
      "outputs": [
        {
          "output_type": "execute_result",
          "data": {
            "text/plain": [
              "(4, 8)"
            ]
          },
          "metadata": {},
          "execution_count": 11
        }
      ]
    },
    {
      "cell_type": "code",
      "source": [
        "text = 'kageyamayuka'"
      ],
      "metadata": {
        "id": "tj62OTkSezYy"
      },
      "execution_count": null,
      "outputs": []
    },
    {
      "cell_type": "code",
      "source": [
        "m = re.search(r'eya', text)"
      ],
      "metadata": {
        "id": "pMwF3ymfe3S3"
      },
      "execution_count": null,
      "outputs": []
    },
    {
      "cell_type": "code",
      "source": [
        "m.span()"
      ],
      "metadata": {
        "colab": {
          "base_uri": "https://localhost:8080/"
        },
        "id": "rlyQBaKNfBJZ",
        "outputId": "2cdbb288-cdb8-44b7-857f-d2e948feac85"
      },
      "execution_count": null,
      "outputs": [
        {
          "output_type": "execute_result",
          "data": {
            "text/plain": [
              "(3, 6)"
            ]
          },
          "metadata": {},
          "execution_count": 15
        }
      ]
    },
    {
      "cell_type": "code",
      "source": [
        "text = 'hanamogera'\n",
        "s, e = m.span()\n",
        "text[s:e]"
      ],
      "metadata": {
        "colab": {
          "base_uri": "https://localhost:8080/",
          "height": 36
        },
        "id": "bPh5MjqkfFZk",
        "outputId": "9d60a46c-acf9-4733-bc5b-8f68efe1aed5"
      },
      "execution_count": null,
      "outputs": [
        {
          "output_type": "execute_result",
          "data": {
            "text/plain": [
              "'amo'"
            ],
            "application/vnd.google.colaboratory.intrinsic+json": {
              "type": "string"
            }
          },
          "metadata": {},
          "execution_count": 16
        }
      ]
    },
    {
      "cell_type": "code",
      "source": [
        "text = 'hanamogera'"
      ],
      "metadata": {
        "id": "rnQN2IQLirnw"
      },
      "execution_count": null,
      "outputs": []
    },
    {
      "cell_type": "code",
      "source": [
        "m = re.search(r'moge', text)\n",
        "m.span()"
      ],
      "metadata": {
        "colab": {
          "base_uri": "https://localhost:8080/"
        },
        "id": "hC38aONqjJbN",
        "outputId": "fec19fcb-f1ad-42d1-ad02-85279130e270"
      },
      "execution_count": null,
      "outputs": [
        {
          "output_type": "execute_result",
          "data": {
            "text/plain": [
              "(4, 8)"
            ]
          },
          "metadata": {},
          "execution_count": 24
        }
      ]
    },
    {
      "cell_type": "code",
      "source": [
        "s,  e = m.span()\n",
        "text[s:e]"
      ],
      "metadata": {
        "colab": {
          "base_uri": "https://localhost:8080/",
          "height": 36
        },
        "id": "govP-_d3jNua",
        "outputId": "7c7bbbd4-f995-4ed3-98be-d43dfe31686d"
      },
      "execution_count": null,
      "outputs": [
        {
          "output_type": "execute_result",
          "data": {
            "text/plain": [
              "'moge'"
            ],
            "application/vnd.google.colaboratory.intrinsic+json": {
              "type": "string"
            }
          },
          "metadata": {},
          "execution_count": 25
        }
      ]
    },
    {
      "cell_type": "code",
      "source": [
        "m.group()"
      ],
      "metadata": {
        "colab": {
          "base_uri": "https://localhost:8080/",
          "height": 36
        },
        "id": "OkXtF4CXkMsd",
        "outputId": "cb46c4aa-d61a-4020-9511-aa8d271934f3"
      },
      "execution_count": null,
      "outputs": [
        {
          "output_type": "execute_result",
          "data": {
            "text/plain": [
              "'moge'"
            ],
            "application/vnd.google.colaboratory.intrinsic+json": {
              "type": "string"
            }
          },
          "metadata": {},
          "execution_count": 26
        }
      ]
    },
    {
      "cell_type": "code",
      "source": [
        "m = re.search(r'moge', text)\n",
        "m.span()"
      ],
      "metadata": {
        "colab": {
          "base_uri": "https://localhost:8080/"
        },
        "id": "kZTOJimMkVaq",
        "outputId": "8d751a7f-a1c4-4fe3-f6e6-a8eddcdbaae5"
      },
      "execution_count": null,
      "outputs": [
        {
          "output_type": "execute_result",
          "data": {
            "text/plain": [
              "(4, 8)"
            ]
          },
          "metadata": {},
          "execution_count": 27
        }
      ]
    },
    {
      "cell_type": "code",
      "source": [
        "m.group()"
      ],
      "metadata": {
        "colab": {
          "base_uri": "https://localhost:8080/",
          "height": 36
        },
        "id": "pkMjCN9NkXuJ",
        "outputId": "3ef18a52-2efe-4f92-dba1-5a0d087eaf25"
      },
      "execution_count": null,
      "outputs": [
        {
          "output_type": "execute_result",
          "data": {
            "text/plain": [
              "'moge'"
            ],
            "application/vnd.google.colaboratory.intrinsic+json": {
              "type": "string"
            }
          },
          "metadata": {},
          "execution_count": 28
        }
      ]
    },
    {
      "cell_type": "code",
      "source": [
        "d[\"new\"]"
      ],
      "metadata": {
        "colab": {
          "base_uri": "https://localhost:8080/",
          "height": 175
        },
        "id": "Emv2uojzciZk",
        "outputId": "8d8edfa2-6b32-4796-df87-472921e18a03"
      },
      "execution_count": 2,
      "outputs": [
        {
          "output_type": "error",
          "ename": "KeyError",
          "evalue": "ignored",
          "traceback": [
            "\u001b[0;31m---------------------------------------------------------------------------\u001b[0m",
            "\u001b[0;31mKeyError\u001b[0m                                  Traceback (most recent call last)",
            "\u001b[0;32m<ipython-input-2-f67ebbb1d7cd>\u001b[0m in \u001b[0;36m<cell line: 1>\u001b[0;34m()\u001b[0m\n\u001b[0;32m----> 1\u001b[0;31m \u001b[0md\u001b[0m\u001b[0;34m[\u001b[0m\u001b[0;34m\"new\"\u001b[0m\u001b[0;34m]\u001b[0m\u001b[0;34m\u001b[0m\u001b[0;34m\u001b[0m\u001b[0m\n\u001b[0m",
            "\u001b[0;31mKeyError\u001b[0m: 'new'"
          ]
        }
      ]
    },
    {
      "cell_type": "code",
      "source": [
        "from collections import defaultdict"
      ],
      "metadata": {
        "id": "t-Kl50LSdD57"
      },
      "execution_count": 12,
      "outputs": []
    },
    {
      "cell_type": "code",
      "source": [
        "d = defaultdict (int)"
      ],
      "metadata": {
        "id": "p5AiNXiZdNh1"
      },
      "execution_count": 13,
      "outputs": []
    },
    {
      "cell_type": "code",
      "source": [
        "s = \"すもももももももものうち\"\n",
        "for c in list (s):\n",
        "  d[c] += 1\n",
        "for k,v in d.items():\n",
        "  print(k,v)"
      ],
      "metadata": {
        "colab": {
          "base_uri": "https://localhost:8080/"
        },
        "id": "B4VTbTVbdSvf",
        "outputId": "d53bf6a0-3cac-403b-c4bc-534bd659fe85"
      },
      "execution_count": 15,
      "outputs": [
        {
          "output_type": "stream",
          "name": "stdout",
          "text": [
            "す 2\n",
            "も 16\n",
            "の 2\n",
            "う 2\n",
            "ち 2\n"
          ]
        }
      ]
    }
  ]
}